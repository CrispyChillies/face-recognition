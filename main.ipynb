{
 "cells": [
  {
   "cell_type": "code",
   "execution_count": 14,
   "metadata": {},
   "outputs": [],
   "source": [
    "# import standard libraries\n",
    "import cv2\n",
    "import os\n",
    "import random\n",
    "import numpy as np\n",
    "from matplotlib import pyplot as plt"
   ]
  },
  {
   "cell_type": "code",
   "execution_count": 15,
   "metadata": {},
   "outputs": [],
   "source": [
    "# import tensorflow dependencies - Functional API\n",
    "from tensorflow.keras.models import Model\n",
    "from tensorflow.keras.layers import Layer, Conv2D, Dense, MaxPooling2D, Input, Flatten\n",
    "import tensorflow as tf"
   ]
  },
  {
   "cell_type": "code",
   "execution_count": 16,
   "metadata": {},
   "outputs": [],
   "source": [
    "# Add OOM errrors by setting GPU Memory Consumption Growth\n",
    "# gpus = tf.config.experimental.list_physical_devices('GPU')\n",
    "# for gpu in gpus:\n",
    "#   tf.config.experimental.set_memory_growth(gpu, True)"
   ]
  },
  {
   "cell_type": "markdown",
   "metadata": {},
   "source": [
    "MOVE DATASET FROM LFW TO DATA FOLDER"
   ]
  },
  {
   "cell_type": "code",
   "execution_count": 17,
   "metadata": {},
   "outputs": [],
   "source": [
    "# Set up paths\n",
    "POS_PATH = os.path.join('data', 'positive')\n",
    "NEG_PATH = os.path.join('data', 'negative')\n",
    "ANC_PATH = os.path.join('data', 'anchor')"
   ]
  },
  {
   "cell_type": "code",
   "execution_count": 18,
   "metadata": {},
   "outputs": [],
   "source": [
    "# Make directories\n",
    "os.makedirs(POS_PATH, exist_ok=True)\n",
    "os.makedirs(NEG_PATH, exist_ok=True)\n",
    "os.makedirs(ANC_PATH, exist_ok=True)"
   ]
  },
  {
   "cell_type": "code",
   "execution_count": 19,
   "metadata": {},
   "outputs": [],
   "source": [
    "# for directory in os.listdir('lfw'): # loop directory\n",
    "#   for file in os.listdir(os.path.join('lfw', directory)): # loop files\n",
    "#     EX_PATH = os.path.join('lfw', directory, file)\n",
    "#     NEW_PATH = os.path.join(NEG_PATH, file)\n",
    "#     os.replace(EX_PATH, NEW_PATH)"
   ]
  },
  {
   "cell_type": "markdown",
   "metadata": {},
   "source": [
    "COLLECT POSITIVE AND ANCHOR CLASSES"
   ]
  },
  {
   "cell_type": "code",
   "execution_count": 20,
   "metadata": {},
   "outputs": [],
   "source": [
    "import uuid"
   ]
  },
  {
   "cell_type": "code",
   "execution_count": 21,
   "metadata": {},
   "outputs": [],
   "source": [
    "# uuid?? -> \"??\" Used for library information tracking "
   ]
  },
  {
   "cell_type": "code",
   "execution_count": 22,
   "metadata": {},
   "outputs": [],
   "source": [
    "cap = cv2.VideoCapture(0)\n",
    "while cap.isOpened():\n",
    "  ret, frame  = cap.read()\n",
    "  frame = frame[120: 120 + 250, 200:200 + 250, :]\n",
    "  cv2.imshow('Image Collection', frame)\n",
    "\n",
    "  # Collect Anchor Images\n",
    "  if cv2.waitKey(1) & 0xFF == ord('a'):\n",
    "    # Create unique file path\n",
    "    imgname = os.path.join(ANC_PATH, '{}.jpg'.format(uuid.uuid1()))\n",
    "    # Write out anchor image\n",
    "    cv2.imwrite(imgname, frame)\n",
    "\n",
    "  # Collect Positive Images\n",
    "  if cv2.waitKey(1) & 0xFF == ord('p'):\n",
    "    # Create unique file path\n",
    "    imgname = os.path.join(POS_PATH, '{}.jpg'.format(uuid.uuid1()))\n",
    "    # Write out anchor image\n",
    "    cv2.imwrite(imgname, frame)\n",
    "\n",
    "  # Breaking gracefully\n",
    "  if cv2.waitKey(1) & 0xFF == ord('q'):\n",
    "    break\n",
    "cap.release()\n",
    "cv2.destroyAllWindows()"
   ]
  },
  {
   "cell_type": "markdown",
   "metadata": {},
   "source": [
    "LOAD AND PREPROCESS IMAGES"
   ]
  },
  {
   "cell_type": "code",
   "execution_count": 24,
   "metadata": {},
   "outputs": [],
   "source": [
    "anchor = tf.data.Dataset.list_files(os.path.join(ANC_PATH, '*.jpg')).take(300)\n",
    "positive = tf.data.Dataset.list_files(os.path.join(POS_PATH, '*.jpg')).take(300)\n",
    "negative = tf.data.Dataset.list_files(os.path.join(NEG_PATH, '*.jpg')).take(300)"
   ]
  },
  {
   "cell_type": "code",
   "execution_count": 34,
   "metadata": {},
   "outputs": [
    {
     "name": "stdout",
     "output_type": "stream",
     "text": [
      "b'data\\\\anchor\\\\9f580497-9120-11ef-babf-fb89cd63b556.jpg'\n"
     ]
    }
   ],
   "source": [
    "dir_test = anchor.as_numpy_iterator()\n",
    "print(dir_test.next())"
   ]
  },
  {
   "cell_type": "markdown",
   "metadata": {},
   "source": [
    "PREPROCESSING"
   ]
  },
  {
   "cell_type": "code",
   "execution_count": 41,
   "metadata": {},
   "outputs": [],
   "source": [
    "def preprocess(file_path):\n",
    "  # Read in image from file path\n",
    "  byte_img = tf.io.read_file(file_path)\n",
    "  # Load in the image\n",
    "  img = tf.io.decode_jpeg(byte_img)\n",
    "\n",
    "  # Preprocessing steps - resize image size from 250 x 250 to 100 x 100\n",
    "  img = tf.image.resize(img, (100, 100))\n",
    "\n",
    "  # Scale image from 0 to 1\n",
    "  img = img / 255.0\n",
    "  return img"
   ]
  },
  {
   "cell_type": "code",
   "execution_count": 43,
   "metadata": {},
   "outputs": [
    {
     "data": {
      "text/plain": [
       "0.0"
      ]
     },
     "execution_count": 43,
     "metadata": {},
     "output_type": "execute_result"
    }
   ],
   "source": [
    "img = preprocess('data\\\\anchor\\\\9f580497-9120-11ef-babf-fb89cd63b556.jpg')\n",
    "img.numpy().min()\n",
    "img.numpy().max()"
   ]
  },
  {
   "cell_type": "code",
   "execution_count": 44,
   "metadata": {},
   "outputs": [
    {
     "data": {
      "text/plain": [
       "<matplotlib.image.AxesImage at 0x1e14c604830>"
      ]
     },
     "execution_count": 44,
     "metadata": {},
     "output_type": "execute_result"
    },
    {
     "data": {
      "image/png": "[encoded data removed]",
      "text/plain": [
       "<Figure size 640x480 with 1 Axes>"
      ]
     },
     "metadata": {},
     "output_type": "display_data"
    }
   ],
   "source": [
    "plt.imshow(img)"
   ]
  },
  {
   "cell_type": "markdown",
   "metadata": {},
   "source": [
    "CREATE LABELED DATASET"
   ]
  },
  {
   "cell_type": "code",
   "execution_count": 46,
   "metadata": {},
   "outputs": [],
   "source": [
    "# (anchor, positive) => [1,1,1,1,1]\n",
    "# (anchor, negative) => [0,0,0,0,0]"
   ]
  },
  {
   "cell_type": "code",
   "execution_count": 50,
   "metadata": {},
   "outputs": [
    {
     "data": {
      "text/plain": [
       "<tf.Tensor: shape=(300,), dtype=float32, numpy=\n",
       "array([0., 0., 0., 0., 0., 0., 0., 0., 0., 0., 0., 0., 0., 0., 0., 0., 0.,\n",
       "       0., 0., 0., 0., 0., 0., 0., 0., 0., 0., 0., 0., 0., 0., 0., 0., 0.,\n",
       "       0., 0., 0., 0., 0., 0., 0., 0., 0., 0., 0., 0., 0., 0., 0., 0., 0.,\n",
       "       0., 0., 0., 0., 0., 0., 0., 0., 0., 0., 0., 0., 0., 0., 0., 0., 0.,\n",
       "       0., 0., 0., 0., 0., 0., 0., 0., 0., 0., 0., 0., 0., 0., 0., 0., 0.,\n",
       "       0., 0., 0., 0., 0., 0., 0., 0., 0., 0., 0., 0., 0., 0., 0., 0., 0.,\n",
       "       0., 0., 0., 0., 0., 0., 0., 0., 0., 0., 0., 0., 0., 0., 0., 0., 0.,\n",
       "       0., 0., 0., 0., 0., 0., 0., 0., 0., 0., 0., 0., 0., 0., 0., 0., 0.,\n",
       "       0., 0., 0., 0., 0., 0., 0., 0., 0., 0., 0., 0., 0., 0., 0., 0., 0.,\n",
       "       0., 0., 0., 0., 0., 0., 0., 0., 0., 0., 0., 0., 0., 0., 0., 0., 0.,\n",
       "       0., 0., 0., 0., 0., 0., 0., 0., 0., 0., 0., 0., 0., 0., 0., 0., 0.,\n",
       "       0., 0., 0., 0., 0., 0., 0., 0., 0., 0., 0., 0., 0., 0., 0., 0., 0.,\n",
       "       0., 0., 0., 0., 0., 0., 0., 0., 0., 0., 0., 0., 0., 0., 0., 0., 0.,\n",
       "       0., 0., 0., 0., 0., 0., 0., 0., 0., 0., 0., 0., 0., 0., 0., 0., 0.,\n",
       "       0., 0., 0., 0., 0., 0., 0., 0., 0., 0., 0., 0., 0., 0., 0., 0., 0.,\n",
       "       0., 0., 0., 0., 0., 0., 0., 0., 0., 0., 0., 0., 0., 0., 0., 0., 0.,\n",
       "       0., 0., 0., 0., 0., 0., 0., 0., 0., 0., 0., 0., 0., 0., 0., 0., 0.,\n",
       "       0., 0., 0., 0., 0., 0., 0., 0., 0., 0., 0.], dtype=float32)>"
      ]
     },
     "execution_count": 50,
     "metadata": {},
     "output_type": "execute_result"
    }
   ],
   "source": [
    "tf.zeros(len(anchor))"
   ]
  },
  {
   "cell_type": "code",
   "execution_count": 47,
   "metadata": {},
   "outputs": [],
   "source": [
    "positives = tf.data.Dataset.zip((anchor, positive, tf.data.Dataset.from_tensor_slices(tf.ones(len(anchor)))))\n",
    "negatives = tf.data.Dataset.zip((anchor, negative, tf.data.Dataset.from_tensor_slices(tf.zeros(len(anchor)))))\n",
    "data = positives.concatenate(negatives)"
   ]
  },
  {
   "cell_type": "code",
   "execution_count": 55,
   "metadata": {},
   "outputs": [],
   "source": [
    "samples = data.as_numpy_iterator()"
   ]
  },
  {
   "cell_type": "code",
   "execution_count": 72,
   "metadata": {},
   "outputs": [],
   "source": [
    "example = samples.next()"
   ]
  },
  {
   "cell_type": "markdown",
   "metadata": {},
   "source": [
    "BUILD TRAIN AND TEST PARTITION"
   ]
  },
  {
   "cell_type": "code",
   "execution_count": 69,
   "metadata": {},
   "outputs": [],
   "source": [
    "def preprocess_twin(input_img, validation_img, label):\n",
    "  return (preprocess(input_img), preprocess(validation_img), label)"
   ]
  },
  {
   "cell_type": "code",
   "execution_count": 74,
   "metadata": {},
   "outputs": [
    {
     "data": {
      "text/plain": [
       "(<tf.Tensor: shape=(100, 100, 3), dtype=float32, numpy=\n",
       " array([[[0.45318627, 0.5512255 , 0.5708333 ],\n",
       "         [0.44705883, 0.5568628 , 0.5715686 ],\n",
       "         [0.4343137 , 0.55      , 0.5588235 ],\n",
       "         ...,\n",
       "         [0.5625    , 0.6213235 , 0.59387255],\n",
       "         [0.5708333 , 0.6237745 , 0.59632355],\n",
       "         [0.57058823, 0.6137255 , 0.5901961 ]],\n",
       " \n",
       "        [[0.45906863, 0.5568628 , 0.58504903],\n",
       "         [0.45441177, 0.55539215, 0.5754902 ],\n",
       "         [0.44485295, 0.55465686, 0.5681372 ],\n",
       "         ...,\n",
       "         [0.5622549 , 0.6166667 , 0.5921569 ],\n",
       "         [0.5769608 , 0.6262255 , 0.6017157 ],\n",
       "         [0.5745098 , 0.61764705, 0.59607846]],\n",
       " \n",
       "        [[0.4502451 , 0.5531863 , 0.5894608 ],\n",
       "         [0.43946078, 0.5512255 , 0.5757353 ],\n",
       "         [0.4404412 , 0.5531863 , 0.57034314],\n",
       "         ...,\n",
       "         [0.59142154, 0.6377451 , 0.6220588 ],\n",
       "         [0.5889706 , 0.63235295, 0.6166667 ],\n",
       "         [0.59044117, 0.6335784 , 0.61789215]],\n",
       " \n",
       "        ...,\n",
       " \n",
       "        [[0.22892156, 0.19166666, 0.1882353 ],\n",
       "         [0.26715687, 0.22205882, 0.20245098],\n",
       "         [0.27818626, 0.21372549, 0.1740196 ],\n",
       "         ...,\n",
       "         [0.6485294 , 0.69558823, 0.6897059 ],\n",
       "         [0.6455882 , 0.7019608 , 0.6931372 ],\n",
       "         [0.63235295, 0.69509804, 0.6852941 ]],\n",
       " \n",
       "        [[0.24656862, 0.21519607, 0.20441176],\n",
       "         [0.2884804 , 0.25220588, 0.22279412],\n",
       "         [0.27132353, 0.21568628, 0.17303921],\n",
       "         ...,\n",
       "         [0.65686274, 0.69803923, 0.6995098 ],\n",
       "         [0.652451  , 0.69558823, 0.69191176],\n",
       "         [0.6463235 , 0.6987745 , 0.68333334]],\n",
       " \n",
       "        [[0.2365196 , 0.20049019, 0.18308823],\n",
       "         [0.27745098, 0.23529412, 0.20686275],\n",
       "         [0.24656862, 0.19044118, 0.15      ],\n",
       "         ...,\n",
       "         [0.62352943, 0.6615196 , 0.62352943],\n",
       "         [0.5301471 , 0.5681372 , 0.5213235 ],\n",
       "         [0.39950982, 0.44411764, 0.38406864]]], dtype=float32)>,\n",
       " <tf.Tensor: shape=(100, 100, 3), dtype=float32, numpy=\n",
       " array([[[0.42034313, 0.50661767, 0.5497549 ],\n",
       "         [0.43014705, 0.5085784 , 0.54534316],\n",
       "         [0.42769608, 0.5061275 , 0.5355392 ],\n",
       "         ...,\n",
       "         [0.5595588 , 0.5987745 , 0.5644608 ],\n",
       "         [0.5627451 , 0.6019608 , 0.57058823],\n",
       "         [0.5502451 , 0.5855392 , 0.5659314 ]],\n",
       " \n",
       "        [[0.43137255, 0.5235294 , 0.5539216 ],\n",
       "         [0.42352942, 0.5151961 , 0.54387254],\n",
       "         [0.42303923, 0.5132353 , 0.5367647 ],\n",
       "         ...,\n",
       "         [0.5647059 , 0.6009804 , 0.5683824 ],\n",
       "         [0.5745098 , 0.6012255 , 0.58186275],\n",
       "         [0.5566176 , 0.5889706 , 0.57034314]],\n",
       " \n",
       "        [[0.39583334, 0.4997549 , 0.5330882 ],\n",
       "         [0.40490195, 0.50686276, 0.53455883],\n",
       "         [0.43235293, 0.52843136, 0.55490196],\n",
       "         ...,\n",
       "         [0.5627451 , 0.5887255 , 0.5634804 ],\n",
       "         [0.56740195, 0.5882353 , 0.5718137 ],\n",
       "         [0.5754902 , 0.59607846, 0.5803922 ]],\n",
       " \n",
       "        ...,\n",
       " \n",
       "        [[0.22058824, 0.18137255, 0.1764706 ],\n",
       "         [0.2723039 , 0.20759805, 0.20759805],\n",
       "         [0.28186274, 0.18333334, 0.17941177],\n",
       "         ...,\n",
       "         [0.6044118 , 0.6495098 , 0.6426471 ],\n",
       "         [0.62034315, 0.66740197, 0.65955883],\n",
       "         [0.5995098 , 0.6546569 , 0.6517157 ]],\n",
       " \n",
       "        [[0.21887255, 0.16470589, 0.15392157],\n",
       "         [0.264951  , 0.19509804, 0.1872549 ],\n",
       "         [0.25      , 0.15808824, 0.14338236],\n",
       "         ...,\n",
       "         [0.62083334, 0.654902  , 0.657598  ],\n",
       "         [0.6242647 , 0.6605392 , 0.6522059 ],\n",
       "         [0.61446077, 0.6526961 , 0.639951  ]],\n",
       " \n",
       "        [[0.23627451, 0.15980393, 0.14509805],\n",
       "         [0.26985294, 0.19387256, 0.17892157],\n",
       "         [0.24436274, 0.16397059, 0.14485294],\n",
       "         ...,\n",
       "         [0.60833335, 0.61446077, 0.62941176],\n",
       "         [0.4090686 , 0.42622548, 0.425     ],\n",
       "         [0.30514705, 0.32205883, 0.29828432]]], dtype=float32)>,\n",
       " 1.0)"
      ]
     },
     "execution_count": 74,
     "metadata": {},
     "output_type": "execute_result"
    }
   ],
   "source": [
    "# * is used for unpacking value inside example\n",
    "res = preprocess_twin(*example)\n",
    "res"
   ]
  },
  {
   "cell_type": "code",
   "execution_count": 79,
   "metadata": {},
   "outputs": [
    {
     "data": {
      "text/plain": [
       "1.0"
      ]
     },
     "execution_count": 79,
     "metadata": {},
     "output_type": "execute_result"
    }
   ],
   "source": [
    "# res[0] -> anchor\n",
    "# res[1] -> positive\n",
    "# res[2] -> label"
   ]
  },
  {
   "cell_type": "code",
   "execution_count": 81,
   "metadata": {},
   "outputs": [],
   "source": [
    "# Build dataloader pipeline\n",
    "data = data.map(preprocess_twin)\n",
    "data = data.cache()\n",
    "data = data.shuffle(buffer_size=1024)"
   ]
  },
  {
   "cell_type": "code",
   "execution_count": 97,
   "metadata": {},
   "outputs": [
    {
     "data": {
      "text/plain": [
       "1.0"
      ]
     },
     "execution_count": 97,
     "metadata": {},
     "output_type": "execute_result"
    }
   ],
   "source": [
    "# Mixed up the data to prevent overfitting\n",
    "sample = data.as_numpy_iterator()\n",
    "sample.next()[2]"
   ]
  },
  {
   "cell_type": "code",
   "execution_count": null,
   "metadata": {},
   "outputs": [],
   "source": [
    "# Training partition\n",
    "# Take 70% of the data for training\n",
    "train_data = data.take(round(len(data) * .7))\n",
    "train_data = train_data.batch(16)\n",
    "# Prevent bottlenecking\n",
    "train_data = train_data.prefetch(8)"
   ]
  }
 ],
 "metadata": {
  "kernelspec": {
   "display_name": "Python 3",
   "language": "python",
   "name": "python3"
  },
  "language_info": {
   "codemirror_mode": {
    "name": "ipython",
    "version": 3
   },
   "file_extension": ".py",
   "mimetype": "text/x-python",
   "name": "python",
   "nbconvert_exporter": "python",
   "pygments_lexer": "ipython3",
   "version": "3.12.6"
  }
 },
 "nbformat": 4,
 "nbformat_minor": 2
}
